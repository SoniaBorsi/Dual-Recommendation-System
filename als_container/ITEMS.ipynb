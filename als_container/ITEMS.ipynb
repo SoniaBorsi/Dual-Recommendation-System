{
 "cells": [
  {
   "cell_type": "code",
   "execution_count": 1,
   "metadata": {
    "vscode": {
     "languageId": "plaintext"
    }
   },
   "outputs": [
    {
     "name": "stderr",
     "output_type": "stream",
     "text": [
      "Setting default log level to \"WARN\".\n",
      "To adjust logging level use sc.setLogLevel(newLevel). For SparkR, use setLogLevel(newLevel).\n"
     ]
    },
    {
     "name": "stdout",
     "output_type": "stream",
     "text": [
      "24/12/07 14:44:42 WARN NativeCodeLoader: Unable to load native-hadoop library for your platform... using builtin-java classes where applicable\n",
      "24/12/07 14:44:43 WARN Utils: Service 'SparkUI' could not bind on port 4040. Attempting port 4041.\n"
     ]
    }
   ],
   "source": [
    "from pyspark.sql import SparkSession\n",
    "\n",
    "# Initialize a SparkSession\n",
    "spark = SparkSession.builder \\\n",
    "    .appName(\"MIND Dataset Processing\") \\\n",
    "    .getOrCreate()"
   ]
  },
  {
   "cell_type": "code",
   "execution_count": 2,
   "metadata": {},
   "outputs": [
    {
     "name": "stderr",
     "output_type": "stream",
     "text": [
      "[Stage 0:>                                                          (0 + 1) / 1]"
     ]
    },
    {
     "name": "stdout",
     "output_type": "stream",
     "text": [
      "+------+---------+---------------+----------------------------------------------------------------------+--------------------------------------------------------------------------------------------------------------------+---------------------------------------------+--------------------------------------------------------------------------------------------------------------------------------------------------------------------------------------------------------------------------------------------------------------------------------------------------------------------------------------------------------------------------------------------------------------------------------------------------------------------------------------+------------------------------------------------------------------------------------------------------------------------------------------------+\n",
      "|NewsID|Category |Subcategory    |Title                                                                 |Abstract                                                                                                            |URL                                          |TitleEntities                                                                                                                                                                                                                                                                                                                                                                                                                                                                         |AbstractEntities                                                                                                                                |\n",
      "+------+---------+---------------+----------------------------------------------------------------------+--------------------------------------------------------------------------------------------------------------------+---------------------------------------------+--------------------------------------------------------------------------------------------------------------------------------------------------------------------------------------------------------------------------------------------------------------------------------------------------------------------------------------------------------------------------------------------------------------------------------------------------------------------------------------+------------------------------------------------------------------------------------------------------------------------------------------------+\n",
      "|N55528|lifestyle|lifestyleroyals|The Brands Queen Elizabeth, Prince Charles, and Prince Philip Swear By|Shop the notebooks, jackets, and more that the royals can't live without.                                           |https://assets.msn.com/labs/mind/AAGH0ET.html|[{\"Label\": \"Prince Philip, Duke of Edinburgh\", \"Type\": \"P\", \"WikidataId\": \"Q80976\", \"Confidence\": 1.0, \"OccurrenceOffsets\": [48], \"SurfaceForms\": [\"Prince Philip\"]}, {\"Label\": \"Charles, Prince of Wales\", \"Type\": \"P\", \"WikidataId\": \"Q43274\", \"Confidence\": 1.0, \"OccurrenceOffsets\": [28], \"SurfaceForms\": [\"Prince Charles\"]}, {\"Label\": \"Elizabeth II\", \"Type\": \"P\", \"WikidataId\": \"Q9682\", \"Confidence\": 0.97, \"OccurrenceOffsets\": [11], \"SurfaceForms\": [\"Queen Elizabeth\"]}]|[]                                                                                                                                              |\n",
      "|N19639|health   |weightloss     |50 Worst Habits For Belly Fat                                         |These seemingly harmless habits are holding you back and keeping you from shedding that unwanted belly fat for good.|https://assets.msn.com/labs/mind/AAB19MK.html|[{\"Label\": \"Adipose tissue\", \"Type\": \"C\", \"WikidataId\": \"Q193583\", \"Confidence\": 1.0, \"OccurrenceOffsets\": [20], \"SurfaceForms\": [\"Belly Fat\"]}]                                                                                                                                                                                                                                                                                                                                      |[{\"Label\": \"Adipose tissue\", \"Type\": \"C\", \"WikidataId\": \"Q193583\", \"Confidence\": 1.0, \"OccurrenceOffsets\": [97], \"SurfaceForms\": [\"belly fat\"]}]|\n",
      "+------+---------+---------------+----------------------------------------------------------------------+--------------------------------------------------------------------------------------------------------------------+---------------------------------------------+--------------------------------------------------------------------------------------------------------------------------------------------------------------------------------------------------------------------------------------------------------------------------------------------------------------------------------------------------------------------------------------------------------------------------------------------------------------------------------------+------------------------------------------------------------------------------------------------------------------------------------------------+\n",
      "only showing top 2 rows\n",
      "\n"
     ]
    },
    {
     "name": "stderr",
     "output_type": "stream",
     "text": [
      "                                                                                "
     ]
    }
   ],
   "source": [
    "# Define the path to the news.tsv file\n",
    "news_path = \"data/mind/MINDsmall_train/news.tsv\"\n",
    "\n",
    "# Define column names for the news.tsv file\n",
    "news_columns = [\"NewsID\", \"Category\", \"Subcategory\", \"Title\", \"Abstract\", \"URL\", \"TitleEntities\", \"AbstractEntities\"]\n",
    "\n",
    "# Load the news.tsv file into a Spark DataFrame\n",
    "news_df = spark.read.csv(\n",
    "    news_path,\n",
    "    sep=\"\\t\",\n",
    "    schema=\"NewsID STRING, Category STRING, Subcategory STRING, Title STRING, Abstract STRING, URL STRING, TitleEntities STRING, AbstractEntities STRING\",\n",
    "    header=False\n",
    ")\n",
    "\n",
    "# Assign column names\n",
    "news_df.show(n=2, truncate=False) "
   ]
  },
  {
   "cell_type": "code",
   "execution_count": 3,
   "metadata": {},
   "outputs": [
    {
     "data": {
      "text/plain": [
       "['NewsID',\n",
       " 'Category',\n",
       " 'Subcategory',\n",
       " 'Title',\n",
       " 'Abstract',\n",
       " 'URL',\n",
       " 'TitleEntities',\n",
       " 'AbstractEntities']"
      ]
     },
     "execution_count": 3,
     "metadata": {},
     "output_type": "execute_result"
    }
   ],
   "source": [
    "news_df.columns"
   ]
  },
  {
   "cell_type": "code",
   "execution_count": 4,
   "metadata": {},
   "outputs": [],
   "source": [
    "#### PRE PROCESSING ###"
   ]
  },
  {
   "cell_type": "code",
   "execution_count": 5,
   "metadata": {},
   "outputs": [],
   "source": [
    "from pyspark.sql import SparkSession\n",
    "from pyspark.sql.functions import col, lower, regexp_replace, length, size, udf\n",
    "from pyspark.sql.types import StringType, ArrayType, IntegerType\n",
    "from pyspark.ml.feature import Tokenizer, StopWordsRemover\n",
    "\n",
    "import json"
   ]
  },
  {
   "cell_type": "code",
   "execution_count": 6,
   "metadata": {},
   "outputs": [
    {
     "name": "stdout",
     "output_type": "stream",
     "text": [
      "24/12/07 14:44:48 WARN SparkSession: Using an existing Spark session; only runtime SQL configurations will take effect.\n"
     ]
    },
    {
     "name": "stderr",
     "output_type": "stream",
     "text": [
      "                                                                                "
     ]
    },
    {
     "name": "stdout",
     "output_type": "stream",
     "text": [
      "+------+---------+---------------+----------------------------------------------------------------------+----------------------------------------------------------------------------------------------------------------------------------------------------------------------------------------------------+---------------------------------------------+--------------------------------------------------------------------------------------------------------------------------------------------------------------------------------------------------------------------------------------------------------------------------------------------------------------------------------------------------------------------------------------------------------------------------------------------------------------------------------------+--------------------------------------------------------------------------------------------------------------------------------------------------------------------------------------------------------------------------------------------------------------------------------------------------------------------------------------------------------------------------------------------------------------------------------------------------------+\n",
      "|NewsID|Category |Subcategory    |Title                                                                 |Abstract                                                                                                                                                                                            |URL                                          |TitleEntities                                                                                                                                                                                                                                                                                                                                                                                                                                                                         |AbstractEntities                                                                                                                                                                                                                                                                                                                                                                                                                                        |\n",
      "+------+---------+---------------+----------------------------------------------------------------------+----------------------------------------------------------------------------------------------------------------------------------------------------------------------------------------------------+---------------------------------------------+--------------------------------------------------------------------------------------------------------------------------------------------------------------------------------------------------------------------------------------------------------------------------------------------------------------------------------------------------------------------------------------------------------------------------------------------------------------------------------------+--------------------------------------------------------------------------------------------------------------------------------------------------------------------------------------------------------------------------------------------------------------------------------------------------------------------------------------------------------------------------------------------------------------------------------------------------------+\n",
      "|N55528|lifestyle|lifestyleroyals|The Brands Queen Elizabeth, Prince Charles, and Prince Philip Swear By|Shop the notebooks, jackets, and more that the royals can't live without.                                                                                                                           |https://assets.msn.com/labs/mind/AAGH0ET.html|[{\"Label\": \"Prince Philip, Duke of Edinburgh\", \"Type\": \"P\", \"WikidataId\": \"Q80976\", \"Confidence\": 1.0, \"OccurrenceOffsets\": [48], \"SurfaceForms\": [\"Prince Philip\"]}, {\"Label\": \"Charles, Prince of Wales\", \"Type\": \"P\", \"WikidataId\": \"Q43274\", \"Confidence\": 1.0, \"OccurrenceOffsets\": [28], \"SurfaceForms\": [\"Prince Charles\"]}, {\"Label\": \"Elizabeth II\", \"Type\": \"P\", \"WikidataId\": \"Q9682\", \"Confidence\": 0.97, \"OccurrenceOffsets\": [11], \"SurfaceForms\": [\"Queen Elizabeth\"]}]|[]                                                                                                                                                                                                                                                                                                                                                                                                                                                      |\n",
      "|N19639|health   |weightloss     |50 Worst Habits For Belly Fat                                         |These seemingly harmless habits are holding you back and keeping you from shedding that unwanted belly fat for good.                                                                                |https://assets.msn.com/labs/mind/AAB19MK.html|[{\"Label\": \"Adipose tissue\", \"Type\": \"C\", \"WikidataId\": \"Q193583\", \"Confidence\": 1.0, \"OccurrenceOffsets\": [20], \"SurfaceForms\": [\"Belly Fat\"]}]                                                                                                                                                                                                                                                                                                                                      |[{\"Label\": \"Adipose tissue\", \"Type\": \"C\", \"WikidataId\": \"Q193583\", \"Confidence\": 1.0, \"OccurrenceOffsets\": [97], \"SurfaceForms\": [\"belly fat\"]}]                                                                                                                                                                                                                                                                                                        |\n",
      "|N61837|news     |newsworld      |The Cost of Trump's Aid Freeze in the Trenches of Ukraine's War       |Lt. Ivan Molchanets peeked over a parapet of sand bags at the front line of the war in Ukraine. Next to him was an empty helmet propped up to trick snipers, already perforated with multiple holes.|https://assets.msn.com/labs/mind/AAJgNsz.html|[]                                                                                                                                                                                                                                                                                                                                                                                                                                                                                    |[{\"Label\": \"Ukraine\", \"Type\": \"G\", \"WikidataId\": \"Q212\", \"Confidence\": 0.946, \"OccurrenceOffsets\": [87], \"SurfaceForms\": [\"Ukraine\"]}]                                                                                                                                                                                                                                                                                                                  |\n",
      "|N53526|health   |voices         |I Was An NBA Wife. Here's How It Affected My Mental Health.           |I felt like I was a fraud, and being an NBA wife didn't help that. In fact, it nearly destroyed me.                                                                                                 |https://assets.msn.com/labs/mind/AACk2N6.html|[]                                                                                                                                                                                                                                                                                                                                                                                                                                                                                    |[{\"Label\": \"National Basketball Association\", \"Type\": \"O\", \"WikidataId\": \"Q155223\", \"Confidence\": 1.0, \"OccurrenceOffsets\": [40], \"SurfaceForms\": [\"NBA\"]}]                                                                                                                                                                                                                                                                                             |\n",
      "|N38324|health   |medical        |How to Get Rid of Skin Tags, According to a Dermatologist             |They seem harmless, but there's a very good reason you shouldn't ignore them. The post How to Get Rid of Skin Tags, According to a Dermatologist appeared first on Reader's Digest.                 |https://assets.msn.com/labs/mind/AAAKEkt.html|[{\"Label\": \"Skin tag\", \"Type\": \"C\", \"WikidataId\": \"Q3179593\", \"Confidence\": 1.0, \"OccurrenceOffsets\": [18], \"SurfaceForms\": [\"Skin Tags\"]}]                                                                                                                                                                                                                                                                                                                                           |[{\"Label\": \"Skin tag\", \"Type\": \"C\", \"WikidataId\": \"Q3179593\", \"Confidence\": 1.0, \"OccurrenceOffsets\": [105], \"SurfaceForms\": [\"Skin Tags\"]}, {\"Label\": \"Dermatology\", \"Type\": \"C\", \"WikidataId\": \"Q171171\", \"Confidence\": 1.0, \"OccurrenceOffsets\": [131], \"SurfaceForms\": [\"Dermatologist\"]}, {\"Label\": \"Reader's Digest\", \"Type\": \"M\", \"WikidataId\": \"Q371820\", \"Confidence\": 0.999, \"OccurrenceOffsets\": [163], \"SurfaceForms\": [\"Reader's Digest\"]}]|\n",
      "+------+---------+---------------+----------------------------------------------------------------------+----------------------------------------------------------------------------------------------------------------------------------------------------------------------------------------------------+---------------------------------------------+--------------------------------------------------------------------------------------------------------------------------------------------------------------------------------------------------------------------------------------------------------------------------------------------------------------------------------------------------------------------------------------------------------------------------------------------------------------------------------------+--------------------------------------------------------------------------------------------------------------------------------------------------------------------------------------------------------------------------------------------------------------------------------------------------------------------------------------------------------------------------------------------------------------------------------------------------------+\n",
      "only showing top 5 rows\n",
      "\n"
     ]
    }
   ],
   "source": [
    "# Initialize Spark session\n",
    "spark = SparkSession.builder.appName(\"PreprocessingPipeline\").getOrCreate()\n",
    "\n",
    "# Load your data (modify the path as necessary)\n",
    "news_df = spark.read.csv(\"data/mind/MINDsmall_train/news.tsv\", sep=\"\\t\", header=False, inferSchema=True)\n",
    "\n",
    "# Assign column names\n",
    "news_df = news_df.toDF(\"NewsID\", \"Category\", \"Subcategory\", \"Title\", \"Abstract\", \"URL\", \"TitleEntities\", \"AbstractEntities\")\n",
    "\n",
    "# Display initial rows\n",
    "news_df.show(5, truncate=False)"
   ]
  },
  {
   "cell_type": "code",
   "execution_count": 7,
   "metadata": {},
   "outputs": [
    {
     "name": "stdout",
     "output_type": "stream",
     "text": [
      "Rows after dropping missing values: 48616\n"
     ]
    }
   ],
   "source": [
    "### MISSING VALUES ###\n",
    "\n",
    "# Drop rows where Title or Abstract are missing\n",
    "news_df = news_df.na.drop(subset=[\"Title\", \"Abstract\"])\n",
    "\n",
    "# Verify the results\n",
    "print(f\"Rows after dropping missing values: {news_df.count()}\")\n"
   ]
  },
  {
   "cell_type": "code",
   "execution_count": 8,
   "metadata": {},
   "outputs": [
    {
     "name": "stderr",
     "output_type": "stream",
     "text": [
      "[Stage 7:>                                                          (0 + 1) / 1]"
     ]
    },
    {
     "name": "stdout",
     "output_type": "stream",
     "text": [
      "+----------------------------------------------------------------------+----------------------------------------------------------------------------------------------------------------------------------------------------------------------------------------------------+\n",
      "|CleanTitle                                                            |CleanAbstract                                                                                                                                                                                       |\n",
      "+----------------------------------------------------------------------+----------------------------------------------------------------------------------------------------------------------------------------------------------------------------------------------------+\n",
      "|the brands queen elizabeth, prince charles, and prince philip swear by|shop the notebooks, jackets, and more that the royals can't live without.                                                                                                                           |\n",
      "|50 worst habits for belly fat                                         |these seemingly harmless habits are holding you back and keeping you from shedding that unwanted belly fat for good.                                                                                |\n",
      "|the cost of trump's aid freeze in the trenches of ukraine's war       |lt. ivan molchanets peeked over a parapet of sand bags at the front line of the war in ukraine. next to him was an empty helmet propped up to trick snipers, already perforated with multiple holes.|\n",
      "|i was an nba wife. here's how it affected my mental health.           |i felt like i was a fraud, and being an nba wife didn't help that. in fact, it nearly destroyed me.                                                                                                 |\n",
      "|how to get rid of skin tags, according to a dermatologist             |they seem harmless, but there's a very good reason you shouldn't ignore them. the post how to get rid of skin tags, according to a dermatologist appeared first on reader's digest.                 |\n",
      "+----------------------------------------------------------------------+----------------------------------------------------------------------------------------------------------------------------------------------------------------------------------------------------+\n",
      "only showing top 5 rows\n",
      "\n"
     ]
    },
    {
     "name": "stderr",
     "output_type": "stream",
     "text": [
      "                                                                                "
     ]
    }
   ],
   "source": [
    "### TEXT CLEANING ###\n",
    "\n",
    "# Define a function to clean text (remove special characters and convert to lowercase)\n",
    "def clean_text(text):\n",
    "    if text:\n",
    "        return text.lower().replace(\"\\n\", \" \").replace(\"\\t\", \" \")\n",
    "    return None\n",
    "\n",
    "# Register the UDF\n",
    "clean_text_udf = udf(lambda x: clean_text(x), StringType())\n",
    "\n",
    "# Apply text cleaning to Title and Abstract\n",
    "news_df = news_df.withColumn(\"CleanTitle\", clean_text_udf(col(\"Title\")))\n",
    "news_df = news_df.withColumn(\"CleanAbstract\", clean_text_udf(col(\"Abstract\")))\n",
    "\n",
    "# Display cleaned text\n",
    "news_df.select(\"CleanTitle\", \"CleanAbstract\").show(5, truncate=False)"
   ]
  },
  {
   "cell_type": "code",
   "execution_count": 9,
   "metadata": {},
   "outputs": [
    {
     "name": "stdout",
     "output_type": "stream",
     "text": [
      "+----------------------------------------------------------------------------------+-----------------------------------------------------------------------------------------------------------------------------------------------------------------------------------------------------------------------------------------+\n",
      "|TitleTokens                                                                       |AbstractTokens                                                                                                                                                                                                                           |\n",
      "+----------------------------------------------------------------------------------+-----------------------------------------------------------------------------------------------------------------------------------------------------------------------------------------------------------------------------------------+\n",
      "|[the, brands, queen, elizabeth,, prince, charles,, and, prince, philip, swear, by]|[shop, the, notebooks,, jackets,, and, more, that, the, royals, can't, live, without.]                                                                                                                                                   |\n",
      "|[50, worst, habits, for, belly, fat]                                              |[these, seemingly, harmless, habits, are, holding, you, back, and, keeping, you, from, shedding, that, unwanted, belly, fat, for, good.]                                                                                                 |\n",
      "|[the, cost, of, trump's, aid, freeze, in, the, trenches, of, ukraine's, war]      |[lt., ivan, molchanets, peeked, over, a, parapet, of, sand, bags, at, the, front, line, of, the, war, in, ukraine., next, to, him, was, an, empty, helmet, propped, up, to, trick, snipers,, already, perforated, with, multiple, holes.]|\n",
      "|[i, was, an, nba, wife., here's, how, it, affected, my, mental, health.]          |[i, felt, like, i, was, a, fraud,, and, being, an, nba, wife, didn't, help, that., in, fact,, it, nearly, destroyed, me.]                                                                                                                |\n",
      "|[how, to, get, rid, of, skin, tags,, according, to, a, dermatologist]             |[they, seem, harmless,, but, there's, a, very, good, reason, you, shouldn't, ignore, them., the, post, how, to, get, rid, of, skin, tags,, according, to, a, dermatologist, appeared, first, on, reader's, digest.]                      |\n",
      "+----------------------------------------------------------------------------------+-----------------------------------------------------------------------------------------------------------------------------------------------------------------------------------------------------------------------------------------+\n",
      "only showing top 5 rows\n",
      "\n"
     ]
    }
   ],
   "source": [
    "### TOKENIZATION ###\n",
    "\n",
    "# Tokenize CleanTitle and CleanAbstract\n",
    "tokenizer_title = Tokenizer(inputCol=\"CleanTitle\", outputCol=\"TitleTokens\")\n",
    "tokenizer_abstract = Tokenizer(inputCol=\"CleanAbstract\", outputCol=\"AbstractTokens\")\n",
    "\n",
    "news_df = tokenizer_title.transform(news_df)\n",
    "news_df = tokenizer_abstract.transform(news_df)\n",
    "\n",
    "# Display tokenized data\n",
    "news_df.select(\"TitleTokens\", \"AbstractTokens\").show(5, truncate=False)\n"
   ]
  },
  {
   "cell_type": "code",
   "execution_count": 10,
   "metadata": {},
   "outputs": [
    {
     "name": "stdout",
     "output_type": "stream",
     "text": [
      "+--------------------------------------------------------------------+----------------------------------------------------------------------------------------------------------------------------------------------------------------------+\n",
      "|FilteredTitleTokens                                                 |FilteredAbstractTokens                                                                                                                                                |\n",
      "+--------------------------------------------------------------------+----------------------------------------------------------------------------------------------------------------------------------------------------------------------+\n",
      "|[brands, queen, elizabeth,, prince, charles,, prince, philip, swear]|[shop, notebooks,, jackets,, royals, live, without.]                                                                                                                  |\n",
      "|[50, worst, habits, belly, fat]                                     |[seemingly, harmless, habits, holding, back, keeping, shedding, unwanted, belly, fat, good.]                                                                          |\n",
      "|[cost, trump's, aid, freeze, trenches, ukraine's, war]              |[lt., ivan, molchanets, peeked, parapet, sand, bags, front, line, war, ukraine., next, empty, helmet, propped, trick, snipers,, already, perforated, multiple, holes.]|\n",
      "|[nba, wife., affected, mental, health.]                             |[felt, like, fraud,, nba, wife, help, that., fact,, nearly, destroyed, me.]                                                                                           |\n",
      "|[get, rid, skin, tags,, according, dermatologist]                   |[seem, harmless,, good, reason, ignore, them., post, get, rid, skin, tags,, according, dermatologist, appeared, first, reader's, digest.]                             |\n",
      "+--------------------------------------------------------------------+----------------------------------------------------------------------------------------------------------------------------------------------------------------------+\n",
      "only showing top 5 rows\n",
      "\n"
     ]
    }
   ],
   "source": [
    "### STOPWORDS REMOVAL ###\n",
    "\n",
    "# Remove stopwords from TitleTokens and AbstractTokens\n",
    "stopword_remover_title = StopWordsRemover(inputCol=\"TitleTokens\", outputCol=\"FilteredTitleTokens\")\n",
    "stopword_remover_abstract = StopWordsRemover(inputCol=\"AbstractTokens\", outputCol=\"FilteredAbstractTokens\")\n",
    "\n",
    "news_df = stopword_remover_title.transform(news_df)\n",
    "news_df = stopword_remover_abstract.transform(news_df)\n",
    "\n",
    "# Display filtered tokens\n",
    "news_df.select(\"FilteredTitleTokens\", \"FilteredAbstractTokens\").show(5, truncate=False)\n"
   ]
  },
  {
   "cell_type": "code",
   "execution_count": 11,
   "metadata": {},
   "outputs": [],
   "source": [
    "# Define a UDF to clean each token in the array\n",
    "def clean_tokens(tokens):\n",
    "    if tokens:\n",
    "        return [token.replace(\",\", \"\") for token in tokens]  # Remove commas\n",
    "    return tokens\n",
    "\n",
    "# Register the UDF\n",
    "clean_tokens_udf = udf(clean_tokens, ArrayType(StringType()))\n",
    "\n",
    "# Apply the UDF to FilteredTitleTokens\n",
    "news_df = news_df.withColumn(\"FilteredTitleTokens\", clean_tokens_udf(col(\"FilteredTitleTokens\")))\n",
    "news_df = news_df.withColumn(\"FilteredAbstractTokens\", clean_tokens_udf(col(\"FilteredAbstractTokens\")))"
   ]
  },
  {
   "cell_type": "code",
   "execution_count": 12,
   "metadata": {},
   "outputs": [
    {
     "name": "stdout",
     "output_type": "stream",
     "text": [
      "+----------------------------------------------------------------------+------------------------------------------------------------------+\n",
      "|Title                                                                 |FilteredTitleTokens                                               |\n",
      "+----------------------------------------------------------------------+------------------------------------------------------------------+\n",
      "|The Brands Queen Elizabeth, Prince Charles, and Prince Philip Swear By|[brands, queen, elizabeth, prince, charles, prince, philip, swear]|\n",
      "|50 Worst Habits For Belly Fat                                         |[50, worst, habits, belly, fat]                                   |\n",
      "|The Cost of Trump's Aid Freeze in the Trenches of Ukraine's War       |[cost, trump's, aid, freeze, trenches, ukraine's, war]            |\n",
      "|I Was An NBA Wife. Here's How It Affected My Mental Health.           |[nba, wife., affected, mental, health.]                           |\n",
      "|How to Get Rid of Skin Tags, According to a Dermatologist             |[get, rid, skin, tags, according, dermatologist]                  |\n",
      "+----------------------------------------------------------------------+------------------------------------------------------------------+\n",
      "only showing top 5 rows\n",
      "\n"
     ]
    }
   ],
   "source": [
    "news_df.select(\"Title\", \"FilteredTitleTokens\").show(5, truncate=False)"
   ]
  },
  {
   "cell_type": "code",
   "execution_count": 13,
   "metadata": {},
   "outputs": [
    {
     "name": "stdout",
     "output_type": "stream",
     "text": [
      "+--------------------------------------------------------------------------------------------------------------------+--------------------------------------------------------------------------------------------+\n",
      "|Abstract                                                                                                            |FilteredAbstractTokens                                                                      |\n",
      "+--------------------------------------------------------------------------------------------------------------------+--------------------------------------------------------------------------------------------+\n",
      "|Shop the notebooks, jackets, and more that the royals can't live without.                                           |[shop, notebooks, jackets, royals, live, without.]                                          |\n",
      "|These seemingly harmless habits are holding you back and keeping you from shedding that unwanted belly fat for good.|[seemingly, harmless, habits, holding, back, keeping, shedding, unwanted, belly, fat, good.]|\n",
      "+--------------------------------------------------------------------------------------------------------------------+--------------------------------------------------------------------------------------------+\n",
      "only showing top 2 rows\n",
      "\n"
     ]
    }
   ],
   "source": [
    "news_df.select(\"Abstract\", \"FilteredAbstractTokens\").show(2, truncate=False)"
   ]
  },
  {
   "cell_type": "code",
   "execution_count": 14,
   "metadata": {},
   "outputs": [
    {
     "data": {
      "text/plain": [
       "['NewsID',\n",
       " 'Category',\n",
       " 'Subcategory',\n",
       " 'Title',\n",
       " 'Abstract',\n",
       " 'URL',\n",
       " 'TitleEntities',\n",
       " 'AbstractEntities',\n",
       " 'CleanTitle',\n",
       " 'CleanAbstract',\n",
       " 'TitleTokens',\n",
       " 'AbstractTokens',\n",
       " 'FilteredTitleTokens',\n",
       " 'FilteredAbstractTokens']"
      ]
     },
     "execution_count": 14,
     "metadata": {},
     "output_type": "execute_result"
    }
   ],
   "source": [
    "news_df.columns"
   ]
  },
  {
   "cell_type": "code",
   "execution_count": 15,
   "metadata": {},
   "outputs": [],
   "source": [
    "### EMBEDDINGS ###"
   ]
  },
  {
   "cell_type": "code",
   "execution_count": 16,
   "metadata": {},
   "outputs": [],
   "source": [
    "from pyspark.sql.functions import concat_ws\n",
    "from pyspark.ml.feature import CountVectorizer\n",
    "from pyspark.sql.functions import split\n",
    "from pyspark.ml.feature import IDF"
   ]
  },
  {
   "cell_type": "code",
   "execution_count": 17,
   "metadata": {},
   "outputs": [
    {
     "name": "stdout",
     "output_type": "stream",
     "text": [
      "+----------------------------------------------------------------------------------------------------------------------------------------------------------------------------------------------+\n",
      "|CombinedTokens                                                                                                                                                                                |\n",
      "+----------------------------------------------------------------------------------------------------------------------------------------------------------------------------------------------+\n",
      "|brands queen elizabeth prince charles prince philip swear shop notebooks jackets royals live without.                                                                                         |\n",
      "|50 worst habits belly fat seemingly harmless habits holding back keeping shedding unwanted belly fat good.                                                                                    |\n",
      "|cost trump's aid freeze trenches ukraine's war lt. ivan molchanets peeked parapet sand bags front line war ukraine. next empty helmet propped trick snipers already perforated multiple holes.|\n",
      "|nba wife. affected mental health. felt like fraud nba wife help that. fact nearly destroyed me.                                                                                               |\n",
      "|get rid skin tags according dermatologist seem harmless good reason ignore them. post get rid skin tags according dermatologist appeared first reader's digest.                               |\n",
      "+----------------------------------------------------------------------------------------------------------------------------------------------------------------------------------------------+\n",
      "only showing top 5 rows\n",
      "\n"
     ]
    }
   ],
   "source": [
    "# combine tokens \n",
    "news_df = news_df.withColumn(\"CombinedTokens\", concat_ws(\" \", \"FilteredTitleTokens\", \"FilteredAbstractTokens\"))\n",
    "\n",
    "# Show the updated DataFrame\n",
    "news_df.select(\"CombinedTokens\").show(5, truncate=False)"
   ]
  },
  {
   "cell_type": "code",
   "execution_count": 18,
   "metadata": {},
   "outputs": [],
   "source": [
    "# Convert CombinedTokens (string) into an array of tokens\n",
    "news_df = news_df.withColumn(\"CombinedWords\", split(news_df[\"CombinedTokens\"], \" \"))\n"
   ]
  },
  {
   "cell_type": "code",
   "execution_count": 19,
   "metadata": {},
   "outputs": [
    {
     "name": "stderr",
     "output_type": "stream",
     "text": [
      "                                                                                "
     ]
    },
    {
     "name": "stdout",
     "output_type": "stream",
     "text": [
      "+------+--------------------------------------------------------------------------------------------------------------------------------------------------------------------+\n",
      "|NewsID|RawFeatures                                                                                                                                                         |\n",
      "+------+--------------------------------------------------------------------------------------------------------------------------------------------------------------------+\n",
      "|N55528|(10000,[310,978,1119,1182,1431,1891,3093,3350,7504,7995],[1.0,1.0,2.0,1.0,1.0,1.0,1.0,1.0,1.0,1.0])                                                                 |\n",
      "|N19639|(10000,[27,437,856,1610,1773,3287,3891,4806,4875,5879],[1.0,1.0,1.0,1.0,1.0,1.0,2.0,2.0,2.0,1.0])                                                                   |\n",
      "|N61837|(10000,[63,176,357,358,397,531,546,966,1683,2588,2761,2803,3638,3674,4368,5554,5723,7958],[1.0,1.0,1.0,1.0,1.0,1.0,2.0,1.0,1.0,1.0,1.0,1.0,1.0,1.0,1.0,1.0,1.0,1.0])|\n",
      "|N53526|(10000,[38,89,231,491,606,1304,1360,1993,2164,2775,3062,3132,5520,7883],[1.0,1.0,1.0,2.0,1.0,1.0,1.0,1.0,1.0,1.0,1.0,1.0,1.0,1.0])                                  |\n",
      "|N38324|(10000,[6,17,20,140,235,363,1067,1233,1606,2662,2677,3362,5950,6989],[1.0,2.0,2.0,1.0,1.0,1.0,1.0,1.0,1.0,1.0,1.0,2.0,1.0,2.0])                                     |\n",
      "+------+--------------------------------------------------------------------------------------------------------------------------------------------------------------------+\n",
      "only showing top 5 rows\n",
      "\n"
     ]
    }
   ],
   "source": [
    "# Compute term frequency (TF) using CountVectorizer\n",
    "cv = CountVectorizer(inputCol=\"CombinedWords\", outputCol=\"RawFeatures\", vocabSize=10000, minDF=2)\n",
    "cv_model = cv.fit(news_df)\n",
    "news_df = cv_model.transform(news_df)\n",
    "\n",
    "# Show the resulting term frequency vector\n",
    "news_df.select(\"NewsID\", \"RawFeatures\").show(5, truncate=False)"
   ]
  },
  {
   "cell_type": "code",
   "execution_count": 20,
   "metadata": {},
   "outputs": [
    {
     "name": "stderr",
     "output_type": "stream",
     "text": [
      "                                                                                "
     ]
    },
    {
     "name": "stdout",
     "output_type": "stream",
     "text": [
      "+------+------------------------------------------------------------------------------------------------------------------------------------------------------------------------------------------------------------------------------------------------------------------------------------------------------------------------------------------------------------------------------------------------------------------------------+\n",
      "|NewsID|TFIDFFeatures                                                                                                                                                                                                                                                                                                                                                                                                                 |\n",
      "+------+------------------------------------------------------------------------------------------------------------------------------------------------------------------------------------------------------------------------------------------------------------------------------------------------------------------------------------------------------------------------------------------------------------------------------+\n",
      "|N55528|(10000,[310,978,1119,1182,1431,1891,3093,3350,7504,7995],[4.483630101453995,5.366778525482124,11.49660685208856,5.565981869250325,5.8644748578063215,6.11889970850162,6.6020738009371005,6.648593816571994,7.656234327034377,7.61367471261558])                                                                                                                                                                               |\n",
      "|N19639|(10000,[27,437,856,1610,1773,3287,3891,4806,4875,5879],[3.118970646321016,4.782915357520931,5.167711036776188,5.7418725357139895,5.80129595618479,6.501269101815135,13.883161882506935,14.472760962948225,14.20569817769918,7.15414238323714])                                                                                                                                                                                |\n",
      "|N61837|(10000,[63,176,357,358,397,531,546,966,1683,2588,2761,2803,3638,3674,4368,5554,5723,7958],[3.548215568298045,4.177002942759765,4.605519919063033,4.599366053488654,4.5436856684550975,4.807792262276336,10.015806721267579,5.290470332418799,5.9165312197623745,6.22738035149569,6.422280690496505,6.57222083778742,6.57222083778742,6.680854678790215,7.030528427269964,7.3259926401638,7.265368018347365,7.572852718095326])|\n",
      "|N53526|(10000,[38,89,231,491,606,1304,1360,1993,2164,2775,3062,3132,5520,7883],[3.2736643617304484,3.757340613048023,4.260850915237641,9.967172105966165,5.077995737454157,5.54470447080304,5.582242390122105,6.11889970850162,6.046796414600276,6.501269101815135,6.4479231211098424,6.435019716273935,7.078156476259219,7.4958916769591974])                                                                                       |\n",
      "|N38324|(10000,[6,17,20,140,235,363,1067,1233,1606,2662,2677,3362,5950,6989],[2.5505523924685667,5.909927519398919,6.101258905856321,3.9662685067082193,4.27110741540483,4.463791759234331,5.311089619621535,5.468718563825118,5.704132207731142,6.22738035149569,6.217017564460144,13.462571064834213,7.236380481474113,14.991783353918395])                                                                                         |\n",
      "+------+------------------------------------------------------------------------------------------------------------------------------------------------------------------------------------------------------------------------------------------------------------------------------------------------------------------------------------------------------------------------------------------------------------------------------+\n",
      "only showing top 5 rows\n",
      "\n"
     ]
    }
   ],
   "source": [
    "idf = IDF(inputCol=\"RawFeatures\", outputCol=\"TFIDFeatures\")\n",
    "idf_model = idf.fit(news_df)\n",
    "news_df = idf_model.transform(news_df)\n",
    "\n",
    "# Show the resulting DataFrame with TF-IDF features\n",
    "news_df.select(\"NewsID\", \"TFIDFFeatures\").show(5, truncate=False)"
   ]
  },
  {
   "cell_type": "code",
   "execution_count": 21,
   "metadata": {},
   "outputs": [
    {
     "data": {
      "text/plain": [
       "['NewsID',\n",
       " 'Category',\n",
       " 'Subcategory',\n",
       " 'Title',\n",
       " 'Abstract',\n",
       " 'URL',\n",
       " 'TitleEntities',\n",
       " 'AbstractEntities',\n",
       " 'CleanTitle',\n",
       " 'CleanAbstract',\n",
       " 'TitleTokens',\n",
       " 'AbstractTokens',\n",
       " 'FilteredTitleTokens',\n",
       " 'FilteredAbstractTokens',\n",
       " 'CombinedTokens',\n",
       " 'CombinedWords',\n",
       " 'RawFeatures',\n",
       " 'TFIDFFeatures']"
      ]
     },
     "execution_count": 21,
     "metadata": {},
     "output_type": "execute_result"
    }
   ],
   "source": [
    "news_df.columns"
   ]
  },
  {
   "cell_type": "code",
   "execution_count": null,
   "metadata": {},
   "outputs": [],
   "source": [
    "## NB: example (10000, [310, 978, 1119], [0.5, 1.2, 0.8])\n",
    "#This means:\n",
    "#The vocabulary size is 10,000.\n",
    "#Words at indices 310, 978, and 1119 in the vocabulary are present in the document.\n",
    "#Their respective TF-IDF scores are 0.5, 1.2, and 0.8.\n"
   ]
  },
  {
   "cell_type": "code",
   "execution_count": 28,
   "metadata": {},
   "outputs": [
    {
     "name": "stdout",
     "output_type": "stream",
     "text": [
      "+------+--------------------+\n",
      "|NewsID|       TFIDFFeatures|\n",
      "+------+--------------------+\n",
      "| N5727|(10000,[1,9,87,90...|\n",
      "|N25908|(10000,[165,280,4...|\n",
      "| N2490|(10000,[1,218,262...|\n",
      "|  N192|(10000,[71,2006,2...|\n",
      "| N1298|(10000,[3,26,42,4...|\n",
      "|N57313|(10000,[36,61,109...|\n",
      "|N36185|(10000,[6,21,74,8...|\n",
      "|N33743|(10000,[2,13,16,3...|\n",
      "|N58255|(10000,[0,10,14,3...|\n",
      "|N44291|(10000,[0,4,15,84...|\n",
      "|N38233|(10000,[5,7,11,69...|\n",
      "| N1970|(10000,[4,26,30,3...|\n",
      "|N41692|(10000,[4,12,31,1...|\n",
      "|N31209|(10000,[4,34,59,1...|\n",
      "|N60452|(10000,[154,159,2...|\n",
      "|N22043|(10000,[36,119,25...|\n",
      "|N30368|(10000,[45,815,12...|\n",
      "| N4233|(10000,[11,90,121...|\n",
      "|N51387|(10000,[111,865,1...|\n",
      "|N22126|(10000,[4,18,34,3...|\n",
      "+------+--------------------+\n",
      "only showing top 20 rows\n",
      "\n"
     ]
    }
   ],
   "source": [
    "# Path to the saved Parquet file\n",
    "parquet_path = \"news_tfidf.parquet\"\n",
    "\n",
    "# Read the Parquet file into a DataFrame\n",
    "tfidf_df = spark.read.parquet(parquet_path)\n",
    "\n",
    "# Show the schema of the loaded DataFrame\n",
    "tfidf_df.show()\n"
   ]
  },
  {
   "cell_type": "code",
   "execution_count": null,
   "metadata": {},
   "outputs": [],
   "source": []
  },
  {
   "cell_type": "code",
   "execution_count": null,
   "metadata": {},
   "outputs": [],
   "source": []
  }
 ],
 "metadata": {
  "kernelspec": {
   "display_name": "Python 3 (ipykernel)",
   "language": "python",
   "name": "python3"
  },
  "language_info": {
   "codemirror_mode": {
    "name": "ipython",
    "version": 3
   },
   "file_extension": ".py",
   "mimetype": "text/x-python",
   "name": "python",
   "nbconvert_exporter": "python",
   "pygments_lexer": "ipython3",
   "version": "3.9.2"
  }
 },
 "nbformat": 4,
 "nbformat_minor": 4
}
